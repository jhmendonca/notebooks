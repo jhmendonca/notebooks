{
  "cells": [
    {
      "cell_type": "markdown",
      "metadata": {
        "id": "view-in-github",
        "colab_type": "text"
      },
      "source": [
        "<a href=\"https://colab.research.google.com/github/jhmendonca/notebooks/blob/main/JHM_SDXL.ipynb\" target=\"_parent\"><img src=\"https://colab.research.google.com/assets/colab-badge.svg\" alt=\"Open In Colab\"/></a>"
      ]
    },
    {
      "cell_type": "code",
      "execution_count": null,
      "metadata": {
        "cellView": "form",
        "id": "5J-mDZlE-ejq"
      },
      "outputs": [],
      "source": [
        "#@markdown # Connect Google Drive\n",
        "from IPython.utils import capture\n",
        "from google.colab import drive\n",
        "from IPython.display import clear_output\n",
        "import ipywidgets as widgets\n",
        "import os\n",
        "\n",
        "def inf(msg, style, wdth): inf = widgets.Button(description=msg, disabled=True, button_style=style, layout=widgets.Layout(min_width=wdth));display(inf)\n",
        "\n",
        "print(\"\u001b[0;33mConnecting...\")\n",
        "drive.mount('/content/gdrive')\n",
        "\n",
        "if not os.path.isfile(\"/content/gdrive/MyDrive/ui/config.json\"):\n",
        "   print('\u001b[1;32mInstalando Requerimentos no Drive...')\n",
        "   with capture.capture_output() as cap:\n",
        "    !mkdir /content/gdrive/MyDrive/ui\n",
        "    !cd /content/gdrive/MyDrive/ui; wget https://huggingface.co/jhmendonca/stablediffusion-webui/resolve/main/config.json\n",
        "    !cd /content/gdrive/MyDrive/ui; wget https://huggingface.co/jhmendonca/stablediffusion-webui/resolve/main/ui-config.json\n",
        "    !cd /content/gdrive/MyDrive/ui; wget https://huggingface.co/jhmendonca/stablediffusion-webui/resolve/main/SDXL.tar.gz\n",
        "    download = 1\n",
        "    !mkdir /content/gdrive/MyDrive/ui/embeddings\n",
        "    %cd /content/gdrive/MyDrive/ui\n",
        "    !tar -xzf SDXL.tar.gz\n",
        "    !rm SDXL.tar.gz\n",
        "else:\n",
        "  print('\u001b[1;32mRequerimentos no Drive OK!')\n",
        "  download = 0"
      ]
    },
    {
      "cell_type": "code",
      "execution_count": null,
      "metadata": {
        "cellView": "form",
        "id": "gNo4o8a2-rH8"
      },
      "outputs": [],
      "source": [
        "#@markdown # Instalar requerimentos do Sistema\n",
        "from IPython.utils import capture\n",
        "print('\u001b[1;32mInstalando Requerimentos do Sistema...')\n",
        "with capture.capture_output() as cap:\n",
        "  !cd /content | wget https://huggingface.co/jhmendonca/stablediffusion-webui/resolve/main/requerimentos\n",
        "  !cd /content | wget https://huggingface.co/jhmendonca/stablediffusion-webui/resolve/main/requ_python\n",
        "  !apt-get install $(grep -vE \"^\\s*#\" requerimentos  | tr \"\\n\" \" \")\n",
        "  !pip install -r requ_python\n",
        "  !mkdir /content/ui\n",
        "  !wget -qO /content/ui/webui.sh https://huggingface.co/jhmendonca/stablediffusion-webui/resolve/main/webui.sh\n",
        "print('\u001b[1;32mInstalação Concluida!')\n"
      ]
    },
    {
      "cell_type": "code",
      "execution_count": null,
      "metadata": {
        "cellView": "form",
        "id": "eRhW3dtz-xQt"
      },
      "outputs": [],
      "source": [
        "#@markdown # Iniciar Stable Diffusion\n",
        "NGROK = True #@param {type:\"boolean\"}\n",
        "GRADIO = False #@param {type:\"boolean\"}\n",
        "\n",
        "\n",
        "if NGROK:\n",
        "  with capture.capture_output() as cap:\n",
        "    NGROK_TOKEN = \"\" #@param {type:\"string\"}\n",
        "    from pyngrok import ngrok, conf\n",
        "    #Ngrok_toke = \"$NGROK_TOKEN\"\n",
        "    srv=ngrok.connect(7860, pyngrok_config=conf.PyngrokConfig(auth_token=NGROK_TOKEN),bind_tls=True).public_url\n",
        "  print('\u001b[1;32mAcessar o link abaixo para abrir o SDXL')\n",
        "  print(srv)\n",
        "\n",
        "if GRADIO:\n",
        "  with capture.capture_output() as cap:\n",
        "    !pip install gradio\n",
        "  print('\u001b[1;32mInstalação do Gradio Concluida!')\n",
        "\n",
        "if download == 0:\n",
        "  !cd /content/ui | bash /content/ui/webui.sh -f --share --disable-safe-unpickle --theme dark --enable-insecure-extension-access --no-download-sd-model --xformers --no-half-vae\n",
        "else:\n",
        "  !cd /content/ui | bash /content/ui/webui.sh -f --share --disable-safe-unpickle --theme dark --enable-insecure-extension-access --xformers --no-half-vae"
      ]
    },
    {
      "cell_type": "code",
      "execution_count": null,
      "metadata": {
        "cellView": "form",
        "id": "MzPEMC2fAKNp"
      },
      "outputs": [],
      "source": [
        "#@markdown # Instalar/Atualizar/Baixar Modelos\n",
        "Install_ControlNet = True #@param {type:\"boolean\"}\n",
        "Baixar_Modelos_V2 = True #@param {type:\"boolean\"}\n",
        "Baixar_Modelos_SDXL = True #@param {type:\"boolean\"}\n",
        "%cd /content/gdrive/MyDrive/ui/extensions\n",
        "if Install_ControlNet:\n",
        "  if not os.path.exists(\"sd-webui-controlnet\"):\n",
        "    print('\u001b[1;32mInstalando ControleNet !!!')\n",
        "    %cd /content/gdrive/MyDrive/ui/extensions/sd-webui-controlnet/models\n",
        "    !git clone https://github.com/Mikubill/sd-webui-controlnet.git\n",
        "    %cd sd-webui-controlnet\n",
        "    print('\u001b[1;32mBaixando Modelos do ControlNet V1.5!!')\n",
        "    !wget -q -O repo_controlV1.txt https://huggingface.co/jhmendonca/stablediffusion-webui/resolve/main/repo_control_net\n",
        "    !wget -i repo_controlV1.txt\n",
        "    !rm repo_controlV1.txt\n",
        "  else:\n",
        "    print('\u001b[1;32mAtuzalizando ControleNet')\n",
        "    %cd sd-webui-controlnet\n",
        "    !git reset --hard\n",
        "    !git pull\n",
        "%cd /content/gdrive/MyDrive/ui/extensions/sd-webui-controlnet/models\n",
        "!wget -q -O repo_controlV1.txt https://huggingface.co/jhmendonca/stablediffusion-webui/resolve/main/repo_control_net\n",
        "!wget -i repo_controlV1.txt\n",
        "!rm repo_controlV1.txt\n",
        "if Baixar_Modelos_V2:\n",
        "  %cd /content/gdrive/MyDrive/ui/extensions\n",
        "  if os.path.exists(\"sd-webui-controlnet\"):\n",
        "    print('\u001b[1;32mBaixando Modelos do ControleNet V2')\n",
        "    %cd /content/gdrive/MyDrive/ui/extensions/sd-webui-controlnet/models\n",
        "    !wget -q -O repo_controlV2.txt https://huggingface.co/jhmendonca/stablediffusion-webui/resolve/main/repo_controlenet_v2\n",
        "    !wget -i repo_controlV2.txt\n",
        "    !rm repo_controlV2.txt\n",
        "  else:\n",
        "    print('\u001b[1;32mERROR ControleNet não instalado!!')\n",
        "if Baixar_Modelos_SDXL:\n",
        "  %cd /content/gdrive/MyDrive/ui/extensions\n",
        "  if os.path.exists(\"sd-webui-controlnet\"):\n",
        "     print('\u001b[1;32mBaixando Modelos do ControleNet SDXL')\n",
        "     %cd /content/gdrive/MyDrive/ui/extensions/sd-webui-controlnet/models\n",
        "     !wget -q -O repo_controlSDXL.txt https://huggingface.co/jhmendonca/stablediffusion-webui/resolve/main/repo_controlenet_SDXL\n",
        "     !wget -i    repo_controlSDXL.txt\n",
        "     !rm repo_controlSDXL.txt\n",
        "  else:\n",
        "    print('\u001b[1;32mERROR ControleNet não instalado!!')"
      ]
    }
  ],
  "metadata": {
    "accelerator": "GPU",
    "colab": {
      "machine_shape": "hm",
      "provenance": [],
      "include_colab_link": true
    },
    "kernelspec": {
      "display_name": "Python 3",
      "name": "python3"
    },
    "language_info": {
      "name": "python"
    }
  },
  "nbformat": 4,
  "nbformat_minor": 0
}