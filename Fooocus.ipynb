{
  "nbformat": 4,
  "nbformat_minor": 0,
  "metadata": {
    "colab": {
      "provenance": [],
      "gpuType": "T4"
    },
    "kernelspec": {
      "name": "python3",
      "display_name": "Python 3"
    },
    "language_info": {
      "name": "python"
    },
    "accelerator": "GPU"
  },
  "cells": [
    {
      "cell_type": "code",
      "source": [
        "#@markdown # Connect Google Drive e baixar o Fooocus\n",
        "from IPython.utils import capture\n",
        "from google.colab import drive\n",
        "from IPython.display import clear_output\n",
        "import ipywidgets as widgets\n",
        "import os\n",
        "drive.mount('/content/gdrive')\n",
        "if not os.path.exists(\"/content/gdrive/MyDrive/Fooocus\"):\n",
        "  %cd /content/gdrive/MyDrive\n",
        "  !git clone https://github.com/jhmendonca/Fooocus.git"
      ],
      "metadata": {
        "cellView": "form",
        "id": "xui-qMpmvqxG"
      },
      "execution_count": null,
      "outputs": []
    },
    {
      "cell_type": "code",
      "source": [
        "#@markdown # Instalar Requerimentos\n",
        "%cd /content/gdrive/MyDrive/Fooocus\n",
        "!pip install -r /content/gdrive/MyDrive/Fooocus/requirements_versions.txt"
      ],
      "metadata": {
        "cellView": "form",
        "id": "wN7RNOK2zc6c"
      },
      "execution_count": null,
      "outputs": []
    },
    {
      "cell_type": "code",
      "source": [
        "#@markdown # Inicializar\n",
        "!python /content/gdrive/MyDrive/Fooocus/launch.py"
      ],
      "metadata": {
        "cellView": "form",
        "id": "LWfm5hwixdg2"
      },
      "execution_count": null,
      "outputs": []
    }
  ]
}